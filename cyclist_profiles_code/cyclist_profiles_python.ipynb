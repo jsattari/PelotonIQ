{
  "nbformat": 4,
  "nbformat_minor": 0,
  "metadata": {
    "colab": {
      "name": "cyclist_profiles_python.ipynb",
      "provenance": [],
      "collapsed_sections": []
    },
    "kernelspec": {
      "name": "python3",
      "display_name": "Python 3"
    }
  },
  "cells": [
    {
      "cell_type": "markdown",
      "metadata": {
        "id": "IJVwCVyywqw-",
        "colab_type": "text"
      },
      "source": [
        "# Cyclist Profile Scrape"
      ]
    },
    {
      "cell_type": "code",
      "metadata": {
        "id": "KAFbWVp-wksG",
        "colab_type": "code",
        "colab": {}
      },
      "source": [
        "## install the packages I need for this\n",
        "# !pip install beautifulsoup4\n",
        "# !pip install requests\n",
        "# !pip install html5lib"
      ],
      "execution_count": 0,
      "outputs": []
    },
    {
      "cell_type": "code",
      "metadata": {
        "id": "6ItYl0Ekx8ot",
        "colab_type": "code",
        "colab": {}
      },
      "source": [
        "# import packages\n",
        "from bs4 import BeautifulSoup\n",
        "import requests\n",
        "import pandas as pd\n",
        "import re\n",
        "\n",
        "# start with non-looped method to get used to website\n",
        "url = 'https://www.procyclingstats.com/rankings.php'\n",
        "html = requests.get(url).text\n",
        "soup = BeautifulSoup(html, 'html5lib')\n"
      ],
      "execution_count": 0,
      "outputs": []
    },
    {
      "cell_type": "code",
      "metadata": {
        "id": "fmQURH2ey2nN",
        "colab_type": "code",
        "colab": {
          "base_uri": "https://localhost:8080/",
          "height": 279
        },
        "outputId": "80f1217b-5fb1-4c4d-aab5-52d39623d601"
      },
      "source": [
        "# get the ider links from the pcs main page\n",
        "links = []\n",
        "for link in soup.find_all('a'):\n",
        "  links.append(link.get('href'))\n",
        "links2 = pd.DataFrame(links)\n",
        "\n",
        "# rename column to links\n",
        "links2.columns = ['links']\n",
        "\n",
        "# Filter to only rider links\n",
        "links2 = links2[links2['links'].str.contains('rider/')]\n",
        "\n",
        "# Save the file\n",
        "links2.to_csv(\"cyclist_profile_links.csv\", index = False)\n",
        "\n",
        "\n",
        "\n",
        "\n"
      ],
      "execution_count": 51,
      "outputs": [
        {
          "output_type": "stream",
          "text": [
            "                        links\n",
            "113       rider/primoz-roglic\n",
            "119  rider/julian-alaphilippe\n",
            "125  rider/alejandro-valverde\n",
            "131      rider/jakob-fuglsang\n",
            "137         rider/egan-bernal\n",
            "..                        ...\n",
            "683        rider/pello-bilbao\n",
            "689       rider/sep-vanmarcke\n",
            "695  rider/tao-geoghegan-hart\n",
            "701    rider/lilian-calmejane\n",
            "707    rider/ivan-ramiro-sosa\n",
            "\n",
            "[100 rows x 1 columns]\n"
          ],
          "name": "stdout"
        }
      ]
    }
  ]
}