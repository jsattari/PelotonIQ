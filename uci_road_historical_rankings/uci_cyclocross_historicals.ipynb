{
  "nbformat": 4,
  "nbformat_minor": 0,
  "metadata": {
    "colab": {
      "name": "uci_cyclocross_historicals.ipynb",
      "provenance": [],
      "collapsed_sections": [],
      "toc_visible": true
    },
    "kernelspec": {
      "name": "python3",
      "display_name": "Python 3"
    }
  },
  "cells": [
    {
      "cell_type": "markdown",
      "metadata": {
        "id": "KRuDg84MvRPJ",
        "colab_type": "text"
      },
      "source": [
        "# Process for loading historical uci rankings - Cyclo-cross"
      ]
    },
    {
      "cell_type": "code",
      "metadata": {
        "id": "7D00r9xSv0Kf",
        "colab_type": "code",
        "colab": {
          "base_uri": "https://localhost:8080/",
          "height": 131
        },
        "outputId": "539c731b-3c65-43b8-a485-e6ca168e601b"
      },
      "source": [
        "from google.colab import drive\n",
        "drive.mount('/content/drive')"
      ],
      "execution_count": 1,
      "outputs": [
        {
          "output_type": "stream",
          "text": [
            "Go to this URL in a browser: https://accounts.google.com/o/oauth2/auth?client_id=947318989803-6bn6qk8qdgf4n4g3pfee6491hc0brc4i.apps.googleusercontent.com&redirect_uri=urn%3aietf%3awg%3aoauth%3a2.0%3aoob&response_type=code&scope=email%20https%3a%2f%2fwww.googleapis.com%2fauth%2fdocs.test%20https%3a%2f%2fwww.googleapis.com%2fauth%2fdrive%20https%3a%2f%2fwww.googleapis.com%2fauth%2fdrive.photos.readonly%20https%3a%2f%2fwww.googleapis.com%2fauth%2fpeopleapi.readonly\n",
            "\n",
            "Enter your authorization code:\n",
            "··········\n",
            "Mounted at /content/drive\n"
          ],
          "name": "stdout"
        }
      ]
    },
    {
      "cell_type": "code",
      "metadata": {
        "id": "w6LyAlEsvMSj",
        "colab_type": "code",
        "colab": {}
      },
      "source": [
        "# Process for loading historical uci rankings for cyclocross\n",
        "\n",
        "# Import pandas\n",
        "import pandas as pd\n",
        "\n",
        "# set new root path\n",
        "root_path = '/content/drive/My Drive/cycling_data/Cycling_Yearly_data'\n",
        "\n",
        "# import data sets\n",
        "df1 = pd.read_excel('/content/drive/My Drive/cycling_data/Cycling_Yearly_data/IndividualRanking_cyclo_2019.xlsx')\n",
        "df2 = pd.read_excel('/content/drive/My Drive/cycling_data/Cycling_Yearly_data/IndividualRanking_cyclo_2018.xlsx')\n",
        "df3 = pd.read_excel('/content/drive/My Drive/cycling_data/Cycling_Yearly_data/IndividualRanking_cyclo_2017.xlsx')\n",
        "df4 = pd.read_excel('/content/drive/My Drive/cycling_data/Cycling_Yearly_data/IndividualRanking_cyclo_2016.xlsx')\n",
        "df5 = pd.read_excel('/content/drive/My Drive/cycling_data/Cycling_Yearly_data/IndividualRanking_cyclo_2015.xlsx')\n",
        "df6 = pd.read_excel('/content/drive/My Drive/cycling_data/Cycling_Yearly_data/IndividualRanking_cyclo_2014.xlsx')\n",
        "df7 = pd.read_excel('/content/drive/My Drive/cycling_data/Cycling_Yearly_data/IndividualRanking_cyclo_2013.xlsx')\n",
        "df8 = pd.read_excel('/content/drive/My Drive/cycling_data/Cycling_Yearly_data/IndividualRanking_cyclo_2012.xlsx')\n",
        "df9 = pd.read_excel('/content/drive/My Drive/cycling_data/Cycling_Yearly_data/IndividualRanking_cyclo_2011.xlsx')\n",
        "df10 = pd.read_excel('/content/drive/My Drive/cycling_data/Cycling_Yearly_data/IndividualRanking_cyclo_2010.xlsx')\n",
        "df11 = pd.read_excel('/content/drive/My Drive/cycling_data/Cycling_Yearly_data/IndividualRanking_cyclo_2009.xlsx')\n",
        "\n",
        "# Add a year column for each dataset\n",
        "df1['year'] = 2019\n",
        "df2['year'] = 2018\n",
        "df3['year'] = 2017\n",
        "df4['year'] = 2016\n",
        "df5['year'] = 2015\n",
        "df6['year'] = 2014\n",
        "df7['year'] = 2013\n",
        "df8['year'] = 2012\n",
        "df9['year'] = 2011\n",
        "df10['year'] = 2010\n",
        "df11['year'] = 2009\n",
        "\n",
        "# append all the data sets to one\n",
        "df1 = df1.append(df2, ignore_index = True)\n",
        "df1 = df1.append(df3, ignore_index = True)\n",
        "df1 = df1.append(df4, ignore_index = True)\n",
        "df1 = df1.append(df5, ignore_index = True)\n",
        "df1 = df1.append(df6, ignore_index = True)\n",
        "df1 = df1.append(df7, ignore_index = True)\n",
        "df1 = df1.append(df8, ignore_index = True)\n",
        "df1 = df1.append(df9, ignore_index = True)\n",
        "df1 = df1.append(df10, ignore_index = True)\n",
        "df1 = df1.append(df11, ignore_index = True)\n",
        "\n",
        "# Add a type column for each dataset\n",
        "df1['type'] = 'cyclocross'\n",
        "\n",
        "# save the master file to a csv\n",
        "df1.to_csv('/content/drive/My Drive/cycling_data/uci_historical_rankings/uci_cyclocross_rankins_historicals.csv', index = False)\n",
        "\n"
      ],
      "execution_count": 0,
      "outputs": []
    }
  ]
}