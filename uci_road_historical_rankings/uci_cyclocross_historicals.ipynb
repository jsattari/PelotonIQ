{
  "nbformat": 4,
  "nbformat_minor": 0,
  "metadata": {
    "colab": {
      "name": "uci_cyclocross_historicals.ipynb",
      "provenance": [],
      "collapsed_sections": [],
      "toc_visible": true
    },
    "kernelspec": {
      "name": "python3",
      "display_name": "Python 3"
    }
  },
  "cells": [
    {
      "cell_type": "markdown",
      "metadata": {
        "id": "KRuDg84MvRPJ",
        "colab_type": "text"
      },
      "source": [
        "# Process for loading historical uci rankings - Cyclo-cross"
      ]
    },
    {
      "cell_type": "code",
      "metadata": {
        "id": "7D00r9xSv0Kf",
        "colab_type": "code",
        "colab": {}
      },
      "source": [
        "from google.colab import drive\n",
        "drive.mount('/content/drive')"
      ],
      "execution_count": 0,
      "outputs": []
    },
    {
      "cell_type": "code",
      "metadata": {
        "id": "w6LyAlEsvMSj",
        "colab_type": "code",
        "colab": {}
      },
      "source": [
        "# Process for loading historical uci rankings for cyclocross\n",
        "\n",
        "# Import pandas\n",
        "import pandas as pd\n",
        "\n",
        "# set new root path\n",
        "root_path = '/content/drive/My Drive/cycling_data/Cycling_Yearly_data'\n",
        "\n",
        "# import data sets\n",
        "df1 = pd.read_excel('/content/drive/My Drive/cycling_data/Cycling_Yearly_data/IndividualRanking_cyclo_2019.xlsx')\n",
        "df2 = pd.read_excel('/content/drive/My Drive/cycling_data/Cycling_Yearly_data/IndividualRanking_cyclo_2018.xlsx')\n",
        "df3 = pd.read_excel('/content/drive/My Drive/cycling_data/Cycling_Yearly_data/IndividualRanking_cyclo_2017.xlsx')\n",
        "df4 = pd.read_excel('/content/drive/My Drive/cycling_data/Cycling_Yearly_data/IndividualRanking_cyclo_2016.xlsx')\n",
        "df5 = pd.read_excel('/content/drive/My Drive/cycling_data/Cycling_Yearly_data/IndividualRanking_cyclo_2015.xlsx')\n",
        "df6 = pd.read_excel('/content/drive/My Drive/cycling_data/Cycling_Yearly_data/IndividualRanking_cyclo_2014.xlsx')\n",
        "df7 = pd.read_excel('/content/drive/My Drive/cycling_data/Cycling_Yearly_data/IndividualRanking_cyclo_2013.xlsx')\n",
        "df8 = pd.read_excel('/content/drive/My Drive/cycling_data/Cycling_Yearly_data/IndividualRanking_cyclo_2012.xlsx')\n",
        "df9 = pd.read_excel('/content/drive/My Drive/cycling_data/Cycling_Yearly_data/IndividualRanking_cyclo_2011.xlsx')\n",
        "df10 = pd.read_excel('/content/drive/My Drive/cycling_data/Cycling_Yearly_data/IndividualRanking_cyclo_2010.xlsx')\n",
        "df11 = pd.read_excel('/content/drive/My Drive/cycling_data/Cycling_Yearly_data/IndividualRanking_cyclo_2009.xlsx')\n",
        "\n",
        "# Add a year column for each dataset\n",
        "df1['year'] = 2019\n",
        "df2['year'] = 2018\n",
        "df3['year'] = 2017\n",
        "df4['year'] = 2016\n",
        "df5['year'] = 2015\n",
        "df6['year'] = 2014\n",
        "df7['year'] = 2013\n",
        "df8['year'] = 2012\n",
        "df9['year'] = 2011\n",
        "df10['year'] = 2010\n",
        "df11['year'] = 2009\n",
        "\n",
        "# append all the data sets to one\n",
        "df1 = df1.append(df2, ignore_index = True)\n",
        "df1 = df1.append(df3, ignore_index = True)\n",
        "df1 = df1.append(df4, ignore_index = True)\n",
        "df1 = df1.append(df5, ignore_index = True)\n",
        "df1 = df1.append(df6, ignore_index = True)\n",
        "df1 = df1.append(df7, ignore_index = True)\n",
        "df1 = df1.append(df8, ignore_index = True)\n",
        "df1 = df1.append(df9, ignore_index = True)\n",
        "df1 = df1.append(df10, ignore_index = True)\n",
        "df1 = df1.append(df11, ignore_index = True)\n",
        "\n",
        "# Add a type column for each dataset\n",
        "df1['type'] = 'cyclocross'\n",
        "\n",
        "# save the master file to a csv\n",
        "df1.to_csv('/content/drive/My Drive/cycling_data/uci_historical_rankings/uci_cyclocross_rankins_historicals.csv', index = False)\n",
        "\n"
      ],
      "execution_count": 0,
      "outputs": []
    }
  ]
}