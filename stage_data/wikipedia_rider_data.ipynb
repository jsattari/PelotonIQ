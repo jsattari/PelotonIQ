{
  "nbformat": 4,
  "nbformat_minor": 0,
  "metadata": {
    "colab": {
      "name": "wikipedia_rider_data.ipynb",
      "provenance": [],
      "collapsed_sections": [],
      "authorship_tag": "ABX9TyNRNULKWYuFt3TQCvRJHy0q",
      "include_colab_link": true
    },
    "kernelspec": {
      "name": "python3",
      "display_name": "Python 3"
    }
  },
  "cells": [
    {
      "cell_type": "markdown",
      "metadata": {
        "id": "view-in-github",
        "colab_type": "text"
      },
      "source": [
        "<a href=\"https://colab.research.google.com/github/pierre-brendan/PelotonIQ/blob/master/stage_data/wikipedia_rider_data.ipynb\" target=\"_parent\"><img src=\"https://colab.research.google.com/assets/colab-badge.svg\" alt=\"Open In Colab\"/></a>"
      ]
    },
    {
      "cell_type": "markdown",
      "metadata": {
        "id": "l3N4r_MOWK2N",
        "colab_type": "text"
      },
      "source": [
        "Wikipedia is a great source for some cycling data like Monuments wins by year"
      ]
    },
    {
      "cell_type": "code",
      "metadata": {
        "id": "WG9KNwojWGeB",
        "colab_type": "code",
        "colab": {}
      },
      "source": [
        "# import packages\n",
        "from bs4 import BeautifulSoup\n",
        "import requests\n",
        "import pandas as pd\n",
        "import re\n",
        "\n",
        "# start with Milan-San Remo\n",
        "url = 'https://en.wikipedia.org/wiki/Milan%E2%80%93San_Remo'\n",
        "html = requests.get(url).text\n",
        "soup = BeautifulSoup(html, 'html5lib')"
      ],
      "execution_count": 0,
      "outputs": []
    },
    {
      "cell_type": "code",
      "metadata": {
        "id": "cZf9elP9XIzQ",
        "colab_type": "code",
        "colab": {}
      },
      "source": [
        "# Milan San Remo\n",
        "tables = soup.find('table', class_='sortable')\n",
        "links = tables.find_all('a')\n",
        "\n",
        "Year = []\n",
        "for link in links:\n",
        "    Year.append(link.get('title'))\n",
        "  \n",
        "#print(Year)\n",
        "df = pd.DataFrame()\n",
        "df['tmp'] = Year\n",
        "df = df[-200:] \n",
        "year = df.iloc[::4, :]\n",
        "year['c'] = range(len(year))\n",
        "country = df.iloc[1::4, :]\n",
        "country['c'] = range(len(country))\n",
        "rider = df.iloc[2::4, :]\n",
        "rider['c'] = range(len(rider))\n",
        "team = df.iloc[3::4, :]\n",
        "team['c'] = range(len(team))\n",
        "\n",
        "# join the columns\n",
        "san_remo = pd.merge(year, rider, how='left', on='c')\n",
        "san_remo = pd.merge(san_remo, team, how='left', on='c')\n",
        "\n",
        "\n",
        "# Rename the columns\n",
        "san_remo.columns = ['Year', 'c', 'Rider','Team']\n",
        "san_remo = pd.DataFrame(san_remo)\n",
        "\n",
        "# Drop the 'C' column\n",
        "san_remo.drop(['c'], axis=1, inplace=True)\n",
        "\n",
        "# remove (cyclist) from names\n",
        "san_remo['Rider'] = san_remo['Rider'].str.replace(r\"\\(.*\\)\",\"\")\n",
        "san_remo['Team'] = san_remo['Team'].str.replace(r\"\\(.*\\)\",\"\")\n",
        "\n",
        "# save the file\n",
        "#san_remo.to_csv('san_remo.csv', index=False, encoding='utf-8')\n"
      ],
      "execution_count": 0,
      "outputs": []
    },
    {
      "cell_type": "code",
      "metadata": {
        "id": "54nTi-336yIy",
        "colab_type": "code",
        "colab": {}
      },
      "source": [
        "\n",
        "san_remo"
      ],
      "execution_count": 0,
      "outputs": []
    }
  ]
}