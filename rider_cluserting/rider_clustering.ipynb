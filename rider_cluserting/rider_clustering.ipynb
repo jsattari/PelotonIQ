{
  "nbformat": 4,
  "nbformat_minor": 0,
  "metadata": {
    "colab": {
      "name": "rider_clustering.ipynb",
      "provenance": [],
      "collapsed_sections": [],
      "authorship_tag": "ABX9TyOnkOW4W6wspfxv50VIVoou",
      "include_colab_link": true
    },
    "kernelspec": {
      "name": "python3",
      "display_name": "Python 3"
    }
  },
  "cells": [
    {
      "cell_type": "markdown",
      "metadata": {
        "id": "view-in-github",
        "colab_type": "text"
      },
      "source": [
        "<a href=\"https://colab.research.google.com/github/pierre-brendan/PelotonIQ/blob/master/rider_cluserting/rider_clustering.ipynb\" target=\"_parent\"><img src=\"https://colab.research.google.com/assets/colab-badge.svg\" alt=\"Open In Colab\"/></a>"
      ]
    },
    {
      "cell_type": "markdown",
      "metadata": {
        "id": "j4z-8GPkzAk7",
        "colab_type": "text"
      },
      "source": [
        "# Rider Clustering"
      ]
    },
    {
      "cell_type": "code",
      "metadata": {
        "id": "9JWmE0qmDhXl",
        "colab_type": "code",
        "colab": {}
      },
      "source": [
        "## install the packages I need for this\n",
        "# !pip install sklearn"
      ],
      "execution_count": 0,
      "outputs": []
    },
    {
      "cell_type": "code",
      "metadata": {
        "id": "VeTvPxXczY7S",
        "colab_type": "code",
        "colab": {}
      },
      "source": [
        "# Mount drive to get cyclist links\n",
        "from google.colab import drive\n",
        "drive.mount('/content/drive')"
      ],
      "execution_count": 0,
      "outputs": []
    },
    {
      "cell_type": "code",
      "metadata": {
        "id": "hHUcBdtRzH9t",
        "colab_type": "code",
        "colab": {
          "base_uri": "https://localhost:8080/",
          "height": 284
        },
        "outputId": "61092a52-2d98-4b7b-a6f6-28962511536a"
      },
      "source": [
        "# load modules\n",
        "import pandas as pd\n",
        "import matplotlib.pyplot as plt\n",
        "from sklearn.cluster import KMeans\n",
        "from sklearn import preprocessing\n",
        "\n",
        "# load the data\n",
        "cycling_data = pd.read_csv('/content/drive/My Drive/cycling_data/rider_data.csv')\n",
        "\n",
        "# make a df without cyclist name in it for clustering\n",
        "cycling_data.head()\n",
        "d = cycling_data.drop(['Rider', 'Team', 'crawl_date'], axis=1)\n",
        "\n",
        "# let's normalize the data\n",
        "d['GC'] = preprocessing.scale(d['GC'])\n",
        "d['Sprint'] = preprocessing.scale(d['Sprint'])\n",
        "d['TT'] = preprocessing.scale(d['TT'])\n",
        "d['Climber'] = preprocessing.scale(d['Climber'])\n",
        "d['Classic'] = preprocessing.scale(d['Classic'])\n",
        "\n",
        "# let's go with 8 clusters to start\n",
        "m = KMeans(8)\n",
        "m.fit(d)\n",
        "\n",
        "# Add to our data frame\n",
        "d['Cluster'] = m.labels_\n",
        "\n",
        "# join back to original data set on index\n",
        "cycling_data2 = pd.merge(cycling_data, d, left_index=True, right_index=True)\n",
        "\n",
        "# Review the data\n",
        "#cycling_data2.head()\n",
        "\n",
        "# Total errors and # of clusters\n",
        "dist_points_from_cluster_center = []\n",
        "K = range(1,12)\n",
        "for no_of_clusters in K:\n",
        "  k_model = KMeans(n_clusters=no_of_clusters)\n",
        "  k_model.fit(d)\n",
        "  dist_points_from_cluster_center.append(k_model.inertia_)\n",
        "plt.plot(K, dist_points_from_cluster_center)\n",
        "# 8 seems solid\n"
      ],
      "execution_count": 2,
      "outputs": [
        {
          "output_type": "execute_result",
          "data": {
            "text/plain": [
              "[<matplotlib.lines.Line2D at 0x7f79d1a9ce10>]"
            ]
          },
          "metadata": {
            "tags": []
          },
          "execution_count": 2
        },
        {
          "output_type": "display_data",
          "data": {
            "image/png": "[encoded data removed]",
            "text/plain": [
              "<Figure size 432x288 with 1 Axes>"
            ]
          },
          "metadata": {
            "tags": []
          }
        }
      ]
    },
    {
      "cell_type": "code",
      "metadata": {
        "id": "o5OiC4qIwCWZ",
        "colab_type": "code",
        "colab": {
          "base_uri": "https://localhost:8080/",
          "height": 351
        },
        "outputId": "109345be-de18-4aa0-b424-248c65bd5260"
      },
      "source": [
        "# Let's roll up the avg of of each attribute to see what the clusters made\n",
        "#cycling_data2.head()\n",
        "cycling_data2.groupby(['Cluster']).mean() # may need to add age to data set"
      ],
      "execution_count": 6,
      "outputs": [
        {
          "output_type": "execute_result",
          "data": {
            "text/html": [
              "<div>\n",
              "<style scoped>\n",
              "    .dataframe tbody tr th:only-of-type {\n",
              "        vertical-align: middle;\n",
              "    }\n",
              "\n",
              "    .dataframe tbody tr th {\n",
              "        vertical-align: top;\n",
              "    }\n",
              "\n",
              "    .dataframe thead th {\n",
              "        text-align: right;\n",
              "    }\n",
              "</style>\n",
              "<table border=\"1\" class=\"dataframe\">\n",
              "  <thead>\n",
              "    <tr style=\"text-align: right;\">\n",
              "      <th></th>\n",
              "      <th>GC_x</th>\n",
              "      <th>TT_x</th>\n",
              "      <th>Sprint_x</th>\n",
              "      <th>Climber_x</th>\n",
              "      <th>Classic_x</th>\n",
              "      <th>GC_y</th>\n",
              "      <th>TT_y</th>\n",
              "      <th>Sprint_y</th>\n",
              "      <th>Climber_y</th>\n",
              "      <th>Classic_y</th>\n",
              "    </tr>\n",
              "    <tr>\n",
              "      <th>Cluster</th>\n",
              "      <th></th>\n",
              "      <th></th>\n",
              "      <th></th>\n",
              "      <th></th>\n",
              "      <th></th>\n",
              "      <th></th>\n",
              "      <th></th>\n",
              "      <th></th>\n",
              "      <th></th>\n",
              "      <th></th>\n",
              "    </tr>\n",
              "  </thead>\n",
              "  <tbody>\n",
              "    <tr>\n",
              "      <th>0</th>\n",
              "      <td>509.544554</td>\n",
              "      <td>182.534653</td>\n",
              "      <td>2020.108911</td>\n",
              "      <td>250.297030</td>\n",
              "      <td>1103.930693</td>\n",
              "      <td>-0.159945</td>\n",
              "      <td>-0.203661</td>\n",
              "      <td>0.849539</td>\n",
              "      <td>-0.242244</td>\n",
              "      <td>0.435517</td>\n",
              "    </tr>\n",
              "    <tr>\n",
              "      <th>1</th>\n",
              "      <td>5677.411765</td>\n",
              "      <td>1722.117647</td>\n",
              "      <td>918.705882</td>\n",
              "      <td>5319.352941</td>\n",
              "      <td>2162.294118</td>\n",
              "      <td>4.345341</td>\n",
              "      <td>2.039979</td>\n",
              "      <td>0.067402</td>\n",
              "      <td>4.358340</td>\n",
              "      <td>1.379310</td>\n",
              "    </tr>\n",
              "    <tr>\n",
              "      <th>2</th>\n",
              "      <td>1025.750000</td>\n",
              "      <td>415.785714</td>\n",
              "      <td>4820.107143</td>\n",
              "      <td>717.500000</td>\n",
              "      <td>3240.178571</td>\n",
              "      <td>0.290077</td>\n",
              "      <td>0.136257</td>\n",
              "      <td>2.837895</td>\n",
              "      <td>0.181781</td>\n",
              "      <td>2.340510</td>\n",
              "    </tr>\n",
              "    <tr>\n",
              "      <th>3</th>\n",
              "      <td>2363.760000</td>\n",
              "      <td>2944.080000</td>\n",
              "      <td>707.080000</td>\n",
              "      <td>1262.360000</td>\n",
              "      <td>690.600000</td>\n",
              "      <td>1.456538</td>\n",
              "      <td>3.820750</td>\n",
              "      <td>-0.082879</td>\n",
              "      <td>0.676286</td>\n",
              "      <td>0.066930</td>\n",
              "    </tr>\n",
              "    <tr>\n",
              "      <th>4</th>\n",
              "      <td>299.014210</td>\n",
              "      <td>149.847247</td>\n",
              "      <td>334.928952</td>\n",
              "      <td>179.474245</td>\n",
              "      <td>214.476021</td>\n",
              "      <td>-0.343483</td>\n",
              "      <td>-0.251296</td>\n",
              "      <td>-0.347154</td>\n",
              "      <td>-0.306522</td>\n",
              "      <td>-0.357652</td>\n",
              "    </tr>\n",
              "    <tr>\n",
              "      <th>5</th>\n",
              "      <td>12065.000000</td>\n",
              "      <td>4575.000000</td>\n",
              "      <td>5474.000000</td>\n",
              "      <td>13660.000000</td>\n",
              "      <td>11684.000000</td>\n",
              "      <td>9.913967</td>\n",
              "      <td>6.197495</td>\n",
              "      <td>3.302242</td>\n",
              "      <td>11.928163</td>\n",
              "      <td>9.870267</td>\n",
              "    </tr>\n",
              "    <tr>\n",
              "      <th>6</th>\n",
              "      <td>2098.133333</td>\n",
              "      <td>532.516667</td>\n",
              "      <td>625.883333</td>\n",
              "      <td>2006.716667</td>\n",
              "      <td>999.083333</td>\n",
              "      <td>1.224968</td>\n",
              "      <td>0.306370</td>\n",
              "      <td>-0.140539</td>\n",
              "      <td>1.351851</td>\n",
              "      <td>0.342019</td>\n",
              "    </tr>\n",
              "    <tr>\n",
              "      <th>7</th>\n",
              "      <td>2463.400000</td>\n",
              "      <td>796.600000</td>\n",
              "      <td>11030.200000</td>\n",
              "      <td>2260.400000</td>\n",
              "      <td>8762.200000</td>\n",
              "      <td>1.543403</td>\n",
              "      <td>0.691219</td>\n",
              "      <td>7.247852</td>\n",
              "      <td>1.582089</td>\n",
              "      <td>7.264759</td>\n",
              "    </tr>\n",
              "  </tbody>\n",
              "</table>\n",
              "</div>"
            ],
            "text/plain": [
              "                 GC_x         TT_x  ...  Climber_y  Classic_y\n",
              "Cluster                             ...                      \n",
              "0          509.544554   182.534653  ...  -0.242244   0.435517\n",
              "1         5677.411765  1722.117647  ...   4.358340   1.379310\n",
              "2         1025.750000   415.785714  ...   0.181781   2.340510\n",
              "3         2363.760000  2944.080000  ...   0.676286   0.066930\n",
              "4          299.014210   149.847247  ...  -0.306522  -0.357652\n",
              "5        12065.000000  4575.000000  ...  11.928163   9.870267\n",
              "6         2098.133333   532.516667  ...   1.351851   0.342019\n",
              "7         2463.400000   796.600000  ...   1.582089   7.264759\n",
              "\n",
              "[8 rows x 10 columns]"
            ]
          },
          "metadata": {
            "tags": []
          },
          "execution_count": 6
        }
      ]
    }
  ]
}