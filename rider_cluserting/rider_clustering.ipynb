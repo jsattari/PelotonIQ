{
  "nbformat": 4,
  "nbformat_minor": 0,
  "metadata": {
    "colab": {
      "name": "rider_clustering.ipynb",
      "provenance": [],
      "collapsed_sections": [],
      "authorship_tag": "ABX9TyOUQH+hW8Zr3Cu0oyMpPgZ5",
      "include_colab_link": true
    },
    "kernelspec": {
      "name": "python3",
      "display_name": "Python 3"
    }
  },
  "cells": [
    {
      "cell_type": "markdown",
      "metadata": {
        "id": "view-in-github",
        "colab_type": "text"
      },
      "source": [
        "<a href=\"https://colab.research.google.com/github/pierre-brendan/PelotonIQ/blob/master/rider_cluserting/rider_clustering.ipynb\" target=\"_parent\"><img src=\"https://colab.research.google.com/assets/colab-badge.svg\" alt=\"Open In Colab\"/></a>"
      ]
    },
    {
      "cell_type": "markdown",
      "metadata": {
        "id": "j4z-8GPkzAk7",
        "colab_type": "text"
      },
      "source": [
        "# Rider Clustering"
      ]
    },
    {
      "cell_type": "code",
      "metadata": {
        "id": "9JWmE0qmDhXl",
        "colab_type": "code",
        "colab": {}
      },
      "source": [
        "## install the packages I need for this\n",
        "# !pip install sklearn"
      ],
      "execution_count": 0,
      "outputs": []
    },
    {
      "cell_type": "code",
      "metadata": {
        "id": "VeTvPxXczY7S",
        "colab_type": "code",
        "colab": {}
      },
      "source": [
        "# Mount drive to get cyclist links\n",
        "from google.colab import drive\n",
        "drive.mount('/content/drive')"
      ],
      "execution_count": 0,
      "outputs": []
    },
    {
      "cell_type": "code",
      "metadata": {
        "id": "hHUcBdtRzH9t",
        "colab_type": "code",
        "colab": {}
      },
      "source": [
        "# load modules\n",
        "import pandas as pd\n",
        "import matplotlib.pyplot as plt\n",
        "from sklearn.cluster import KMeans\n",
        "from sklearn import preprocessing\n",
        "\n",
        "# load the data\n",
        "cycling_data = pd.read_csv('/content/drive/My Drive/cycling_data/rider_data.csv')\n",
        "\n",
        "# make a df without cyclist name in it for clustering\n",
        "cycling_data.head()\n",
        "d = cycling_data.drop(['Rider', 'Team', 'crawl_date'], axis=1)\n",
        "\n",
        "# let's normalize the data\n",
        "d['GC'] = preprocessing.scale(d['GC'])\n",
        "d['Sprint'] = preprocessing.scale(d['Sprint'])\n",
        "d['TT'] = preprocessing.scale(d['TT'])\n",
        "d['Climber'] = preprocessing.scale(d['Climber'])\n",
        "d['Classic'] = preprocessing.scale(d['Classic'])\n",
        "\n",
        "# let's go with 8 clusters to start\n",
        "m = KMeans(8)\n",
        "m.fit(d)\n",
        "\n",
        "# Add to our data frame\n",
        "d['Cluster'] = m.labels_\n",
        "\n",
        "# join back to original data set on index\n",
        "cycling_data2 = pd.merge(cycling_data, d, left_index=True, right_index=True)\n",
        "\n",
        "# Review the data\n",
        "#cycling_data2.head()\n",
        "\n",
        "# Total errors and # of clusters\n",
        "dist_points_from_cluster_center = []\n",
        "K = range(1,12)\n",
        "for no_of_clusters in K:\n",
        "  k_model = KMeans(n_clusters=no_of_clusters)\n",
        "  k_model.fit(d)\n",
        "  dist_points_from_cluster_center.append(k_model.inertia_)\n",
        "plt.plot(K, dist_points_from_cluster_center)\n",
        "# 8 seems solid\n"
      ],
      "execution_count": 0,
      "outputs": []
    }
  ]
}