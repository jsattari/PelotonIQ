{
  "nbformat": 4,
  "nbformat_minor": 0,
  "metadata": {
    "colab": {
      "name": "rider_clustering.ipynb",
      "provenance": [],
      "collapsed_sections": [],
      "authorship_tag": "ABX9TyMtMe/UPLlnMZj3TQOv1b3J",
      "include_colab_link": true
    },
    "kernelspec": {
      "name": "python3",
      "display_name": "Python 3"
    }
  },
  "cells": [
    {
      "cell_type": "markdown",
      "metadata": {
        "id": "view-in-github",
        "colab_type": "text"
      },
      "source": [
        "<a href=\"https://colab.research.google.com/github/pierre-brendan/PelotonIQ/blob/master/rider_cluserting/rider_clustering.ipynb\" target=\"_parent\"><img src=\"https://colab.research.google.com/assets/colab-badge.svg\" alt=\"Open In Colab\"/></a>"
      ]
    },
    {
      "cell_type": "markdown",
      "metadata": {
        "id": "j4z-8GPkzAk7",
        "colab_type": "text"
      },
      "source": [
        "# Rider Clustering"
      ]
    },
    {
      "cell_type": "code",
      "metadata": {
        "id": "9JWmE0qmDhXl",
        "colab_type": "code",
        "colab": {}
      },
      "source": [
        "## install the packages I need for this\n",
        "# !pip install sklearn"
      ],
      "execution_count": 0,
      "outputs": []
    },
    {
      "cell_type": "code",
      "metadata": {
        "id": "VeTvPxXczY7S",
        "colab_type": "code",
        "colab": {}
      },
      "source": [
        "# Mount drive to get cyclist links\n",
        "from google.colab import drive\n",
        "drive.mount('/content/drive')"
      ],
      "execution_count": 0,
      "outputs": []
    },
    {
      "cell_type": "code",
      "metadata": {
        "id": "hHUcBdtRzH9t",
        "colab_type": "code",
        "colab": {}
      },
      "source": [
        "# load modules\n",
        "import pandas as pd\n",
        "from sklearn.cluster import KMeans\n",
        "from sklearn import preprocessing\n",
        "\n",
        "# load the data\n",
        "cycling_data = pd.read_csv('/content/drive/My Drive/cycling_data/rider_data.csv')\n",
        "\n",
        "# make a df without cyclist name in it for clustering\n",
        "cycling_data.head()\n",
        "d = cycling_data.drop(['Rider', 'Team', 'crawl_date'], axis=1)\n",
        "\n",
        "# let's normalize the data\n",
        "d['GC'] = preprocessing.scale(d['GC'])\n",
        "d['Sprint'] = preprocessing.scale(d['Sprint'])\n",
        "d['TT'] = preprocessing.scale(d['TT'])\n",
        "d['Climber'] = preprocessing.scale(d['Climber'])\n",
        "d['Classic'] = preprocessing.scale(d['Classic'])\n",
        "\n",
        "# let's go with 6 clusters to start\n",
        "m = KMeans(6)\n",
        "m.fit(d)\n",
        "\n",
        "# Add to our data frame\n",
        "d['cl'] = m.labels_\n",
        "\n",
        "# join back to original data set on index\n",
        "cycling_data2 = pd.merge(cycling_data, d, left_index=True, right_index=True)\n"
      ],
      "execution_count": 0,
      "outputs": []
    },
    {
      "cell_type": "code",
      "metadata": {
        "id": "dmqpSd8b10EP",
        "colab_type": "code",
        "colab": {}
      },
      "source": [
        "# review the data\n",
        "cycling_data2.head()\n",
        "\n",
        "# Work in progress will need to make a function for total errors and # of clusters"
      ],
      "execution_count": 0,
      "outputs": []
    }
  ]
}